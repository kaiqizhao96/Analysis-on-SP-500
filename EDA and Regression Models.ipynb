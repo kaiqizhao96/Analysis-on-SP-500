{
 "cells": [
  {
   "cell_type": "code",
   "execution_count": 2,
   "id": "fa34ba3d-18da-4fb8-bf68-223891880c79",
   "metadata": {},
   "outputs": [],
   "source": [
    "import numpy as np\n",
    "import pandas as pd\n",
    "import seaborn as sns\n",
    "import matplotlib.pyplot as plt\n",
    "import statsmodels.api as sm\n",
    "from scipy import stats\n",
    "from scipy.stats import pearsonr, spearmanr, kendalltau"
   ]
  },
  {
   "cell_type": "markdown",
   "id": "bb7b5519-85ed-43c2-9815-e46a7673b2f4",
   "metadata": {},
   "source": [
    "## Data Preprocessing"
   ]
  },
  {
   "cell_type": "code",
   "execution_count": 3,
   "id": "a2c1a1a0-fa00-4319-8938-8f38ddf6f89c",
   "metadata": {},
   "outputs": [],
   "source": [
    "df = pd.read_csv('sp500_companies.csv')"
   ]
  },
  {
   "cell_type": "code",
   "execution_count": 5,
   "id": "e9c4697e-1c8f-4580-8266-b28e731f394c",
   "metadata": {},
   "outputs": [
    {
     "data": {
      "text/html": [
       "<div>\n",
       "<style scoped>\n",
       "    .dataframe tbody tr th:only-of-type {\n",
       "        vertical-align: middle;\n",
       "    }\n",
       "\n",
       "    .dataframe tbody tr th {\n",
       "        vertical-align: top;\n",
       "    }\n",
       "\n",
       "    .dataframe thead th {\n",
       "        text-align: right;\n",
       "    }\n",
       "</style>\n",
       "<table border=\"1\" class=\"dataframe\">\n",
       "  <thead>\n",
       "    <tr style=\"text-align: right;\">\n",
       "      <th></th>\n",
       "      <th>Exchange</th>\n",
       "      <th>Symbol</th>\n",
       "      <th>Shortname</th>\n",
       "      <th>Longname</th>\n",
       "      <th>Sector</th>\n",
       "      <th>Industry</th>\n",
       "      <th>Currentprice</th>\n",
       "      <th>Marketcap</th>\n",
       "      <th>Ebitda</th>\n",
       "      <th>Revenuegrowth</th>\n",
       "      <th>City</th>\n",
       "      <th>State</th>\n",
       "      <th>Country</th>\n",
       "      <th>Fulltimeemployees</th>\n",
       "      <th>Longbusinesssummary</th>\n",
       "      <th>Weight</th>\n",
       "    </tr>\n",
       "  </thead>\n",
       "  <tbody>\n",
       "    <tr>\n",
       "      <th>0</th>\n",
       "      <td>NMS</td>\n",
       "      <td>MSFT</td>\n",
       "      <td>Microsoft Corporation</td>\n",
       "      <td>Microsoft Corporation</td>\n",
       "      <td>Technology</td>\n",
       "      <td>Software - Infrastructure</td>\n",
       "      <td>406.22</td>\n",
       "      <td>3018393387008</td>\n",
       "      <td>1.184270e+11</td>\n",
       "      <td>0.176</td>\n",
       "      <td>Redmond</td>\n",
       "      <td>WA</td>\n",
       "      <td>United States</td>\n",
       "      <td>221000.0</td>\n",
       "      <td>Microsoft Corporation develops and supports so...</td>\n",
       "      <td>0.063713</td>\n",
       "    </tr>\n",
       "    <tr>\n",
       "      <th>1</th>\n",
       "      <td>NMS</td>\n",
       "      <td>AAPL</td>\n",
       "      <td>Apple Inc.</td>\n",
       "      <td>Apple Inc.</td>\n",
       "      <td>Technology</td>\n",
       "      <td>Consumer Electronics</td>\n",
       "      <td>170.73</td>\n",
       "      <td>2636395315200</td>\n",
       "      <td>1.301090e+11</td>\n",
       "      <td>0.021</td>\n",
       "      <td>Cupertino</td>\n",
       "      <td>CA</td>\n",
       "      <td>United States</td>\n",
       "      <td>161000.0</td>\n",
       "      <td>Apple Inc. designs, manufactures, and markets ...</td>\n",
       "      <td>0.055649</td>\n",
       "    </tr>\n",
       "    <tr>\n",
       "      <th>2</th>\n",
       "      <td>NMS</td>\n",
       "      <td>NVDA</td>\n",
       "      <td>NVIDIA Corporation</td>\n",
       "      <td>NVIDIA Corporation</td>\n",
       "      <td>Technology</td>\n",
       "      <td>Semiconductors</td>\n",
       "      <td>875.28</td>\n",
       "      <td>2188200116224</td>\n",
       "      <td>3.448000e+10</td>\n",
       "      <td>2.653</td>\n",
       "      <td>Santa Clara</td>\n",
       "      <td>CA</td>\n",
       "      <td>United States</td>\n",
       "      <td>29600.0</td>\n",
       "      <td>NVIDIA Corporation provides graphics, and comp...</td>\n",
       "      <td>0.046189</td>\n",
       "    </tr>\n",
       "    <tr>\n",
       "      <th>3</th>\n",
       "      <td>NMS</td>\n",
       "      <td>AMZN</td>\n",
       "      <td>Amazon.com, Inc.</td>\n",
       "      <td>Amazon.com, Inc.</td>\n",
       "      <td>Consumer Cyclical</td>\n",
       "      <td>Internet Retail</td>\n",
       "      <td>175.35</td>\n",
       "      <td>1821430644736</td>\n",
       "      <td>8.551500e+10</td>\n",
       "      <td>0.139</td>\n",
       "      <td>Seattle</td>\n",
       "      <td>WA</td>\n",
       "      <td>United States</td>\n",
       "      <td>1525000.0</td>\n",
       "      <td>Amazon.com, Inc. engages in the retail sale of...</td>\n",
       "      <td>0.038447</td>\n",
       "    </tr>\n",
       "    <tr>\n",
       "      <th>4</th>\n",
       "      <td>NMS</td>\n",
       "      <td>GOOG</td>\n",
       "      <td>Alphabet Inc.</td>\n",
       "      <td>Alphabet Inc.</td>\n",
       "      <td>Communication Services</td>\n",
       "      <td>Internet Content &amp; Information</td>\n",
       "      <td>136.29</td>\n",
       "      <td>1688632950784</td>\n",
       "      <td>1.001720e+11</td>\n",
       "      <td>0.135</td>\n",
       "      <td>Mountain View</td>\n",
       "      <td>CA</td>\n",
       "      <td>United States</td>\n",
       "      <td>182502.0</td>\n",
       "      <td>Alphabet Inc. offers various products and plat...</td>\n",
       "      <td>0.035644</td>\n",
       "    </tr>\n",
       "  </tbody>\n",
       "</table>\n",
       "</div>"
      ],
      "text/plain": [
       "  Exchange Symbol              Shortname               Longname  \\\n",
       "0      NMS   MSFT  Microsoft Corporation  Microsoft Corporation   \n",
       "1      NMS   AAPL             Apple Inc.             Apple Inc.   \n",
       "2      NMS   NVDA     NVIDIA Corporation     NVIDIA Corporation   \n",
       "3      NMS   AMZN       Amazon.com, Inc.       Amazon.com, Inc.   \n",
       "4      NMS   GOOG          Alphabet Inc.          Alphabet Inc.   \n",
       "\n",
       "                   Sector                        Industry  Currentprice  \\\n",
       "0              Technology       Software - Infrastructure        406.22   \n",
       "1              Technology            Consumer Electronics        170.73   \n",
       "2              Technology                  Semiconductors        875.28   \n",
       "3       Consumer Cyclical                 Internet Retail        175.35   \n",
       "4  Communication Services  Internet Content & Information        136.29   \n",
       "\n",
       "       Marketcap        Ebitda  Revenuegrowth           City State  \\\n",
       "0  3018393387008  1.184270e+11          0.176        Redmond    WA   \n",
       "1  2636395315200  1.301090e+11          0.021      Cupertino    CA   \n",
       "2  2188200116224  3.448000e+10          2.653    Santa Clara    CA   \n",
       "3  1821430644736  8.551500e+10          0.139        Seattle    WA   \n",
       "4  1688632950784  1.001720e+11          0.135  Mountain View    CA   \n",
       "\n",
       "         Country  Fulltimeemployees  \\\n",
       "0  United States           221000.0   \n",
       "1  United States           161000.0   \n",
       "2  United States            29600.0   \n",
       "3  United States          1525000.0   \n",
       "4  United States           182502.0   \n",
       "\n",
       "                                 Longbusinesssummary    Weight  \n",
       "0  Microsoft Corporation develops and supports so...  0.063713  \n",
       "1  Apple Inc. designs, manufactures, and markets ...  0.055649  \n",
       "2  NVIDIA Corporation provides graphics, and comp...  0.046189  \n",
       "3  Amazon.com, Inc. engages in the retail sale of...  0.038447  \n",
       "4  Alphabet Inc. offers various products and plat...  0.035644  "
      ]
     },
     "execution_count": 5,
     "metadata": {},
     "output_type": "execute_result"
    }
   ],
   "source": [
    "df.head()"
   ]
  },
  {
   "cell_type": "code",
   "execution_count": 4,
   "id": "94ac89c7-7b46-42eb-9c1c-d7f2280868c4",
   "metadata": {},
   "outputs": [
    {
     "name": "stdout",
     "output_type": "stream",
     "text": [
      "503\n"
     ]
    }
   ],
   "source": [
    "num_rows = df.shape[0]\n",
    "print(num_rows)"
   ]
  },
  {
   "cell_type": "code",
   "execution_count": 5,
   "id": "a3c0885a-a353-40a6-a18f-74e798234bd1",
   "metadata": {},
   "outputs": [
    {
     "name": "stdout",
     "output_type": "stream",
     "text": [
      "Exchange - 0.0%\n",
      "Symbol - 0.0%\n",
      "Shortname - 0.0%\n",
      "Longname - 0.0%\n",
      "Sector - 0.0%\n",
      "Industry - 0.0%\n",
      "Currentprice - 0.0%\n",
      "Marketcap - 0.0%\n",
      "Ebitda - 0.05765407554671968%\n",
      "Revenuegrowth - 0.0019880715705765406%\n",
      "City - 0.0%\n",
      "State - 0.039761431411530816%\n",
      "Country - 0.0%\n",
      "Fulltimeemployees - 0.019880715705765408%\n",
      "Longbusinesssummary - 0.0%\n",
      "Weight - 0.0%\n"
     ]
    }
   ],
   "source": [
    "for col in df.columns:\n",
    "    pct_missing = np.mean(df[col].isnull())\n",
    "    print('{} - {}%'.format(col, pct_missing))"
   ]
  },
  {
   "cell_type": "code",
   "execution_count": 6,
   "id": "6d108b89-ce8b-4a7f-8229-418d59a8c2bb",
   "metadata": {},
   "outputs": [
    {
     "name": "stdout",
     "output_type": "stream",
     "text": [
      "<class 'pandas.core.frame.DataFrame'>\n",
      "RangeIndex: 503 entries, 0 to 502\n",
      "Data columns (total 16 columns):\n",
      " #   Column               Non-Null Count  Dtype  \n",
      "---  ------               --------------  -----  \n",
      " 0   Exchange             503 non-null    object \n",
      " 1   Symbol               503 non-null    object \n",
      " 2   Shortname            503 non-null    object \n",
      " 3   Longname             503 non-null    object \n",
      " 4   Sector               503 non-null    object \n",
      " 5   Industry             503 non-null    object \n",
      " 6   Currentprice         503 non-null    float64\n",
      " 7   Marketcap            503 non-null    int64  \n",
      " 8   Ebitda               474 non-null    float64\n",
      " 9   Revenuegrowth        502 non-null    float64\n",
      " 10  City                 503 non-null    object \n",
      " 11  State                483 non-null    object \n",
      " 12  Country              503 non-null    object \n",
      " 13  Fulltimeemployees    493 non-null    float64\n",
      " 14  Longbusinesssummary  503 non-null    object \n",
      " 15  Weight               503 non-null    float64\n",
      "dtypes: float64(5), int64(1), object(10)\n",
      "memory usage: 63.0+ KB\n"
     ]
    }
   ],
   "source": [
    "original = df\n",
    "original.info()"
   ]
  },
  {
   "cell_type": "code",
   "execution_count": 7,
   "id": "396ffaec-4b09-4f95-9569-0e9deba20d8a",
   "metadata": {},
   "outputs": [],
   "source": [
    "df = df.drop_duplicates(subset=['Longname'], keep='first')\n",
    "df = df.dropna()"
   ]
  },
  {
   "cell_type": "markdown",
   "id": "c15c408b-01c9-48f5-8e0b-93a5d8bd3c2d",
   "metadata": {},
   "source": [
    "## Descriptive Analysis (Stock Prices)"
   ]
  },
  {
   "cell_type": "code",
   "execution_count": 8,
   "id": "86be41c2-9267-471f-9cdb-9a653d608a57",
   "metadata": {},
   "outputs": [
    {
     "data": {
      "image/png": "[encoded data removed]",
      "text/plain": [
       "<Figure size 640x480 with 1 Axes>"
      ]
     },
     "metadata": {},
     "output_type": "display_data"
    }
   ],
   "source": [
    "plt.hist(df['Currentprice'], range=(0, 1000))\n",
    "plt.title('Distribution of Current Stock Prices')\n",
    "plt.show()"
   ]
  },
  {
   "cell_type": "code",
   "execution_count": 9,
   "id": "b7cf94b3-17b0-4a14-b671-d661ee3f050b",
   "metadata": {},
   "outputs": [
    {
     "data": {
      "image/png": "[encoded data removed]",
      "text/plain": [
       "<Figure size 640x480 with 1 Axes>"
      ]
     },
     "metadata": {},
     "output_type": "display_data"
    }
   ],
   "source": [
    "plt.hist(df['Currentprice'])\n",
    "plt.title('Distribution of Current Stock Prices')\n",
    "plt.show()"
   ]
  },
  {
   "cell_type": "code",
   "execution_count": 10,
   "id": "f0fb78f0-1cb9-4275-b2e2-82f79049129d",
   "metadata": {},
   "outputs": [
    {
     "name": "stdout",
     "output_type": "stream",
     "text": [
      "Sector\n",
      "Consumer Cyclical         473.862115\n",
      "Technology                271.554925\n",
      "Healthcare                245.401129\n",
      "Industrials               230.424118\n",
      "Financial Services        205.623636\n",
      "Basic Materials           147.797143\n",
      "Real Estate               134.909333\n",
      "Communication Services    132.275263\n",
      "Consumer Defensive        107.460278\n",
      "Energy                     92.111304\n",
      "Utilities                  67.302667\n",
      "Name: Currentprice, dtype: float64\n"
     ]
    }
   ],
   "source": [
    "grouped = df.groupby('Sector')\n",
    "sector_grouped = grouped['Currentprice']\n",
    "sector_mean = sector_grouped.mean().sort_values(ascending = False)\n",
    "print(sector_mean)"
   ]
  },
  {
   "cell_type": "markdown",
   "id": "7644ba12-703e-4e51-a181-127ead5c2c2d",
   "metadata": {},
   "source": [
    "## Descriptive Analysis (Marketcap and Weight)"
   ]
  },
  {
   "cell_type": "code",
   "execution_count": 11,
   "id": "2dca7163-14d5-40bc-a9b7-99f338f91366",
   "metadata": {},
   "outputs": [
    {
     "name": "stdout",
     "output_type": "stream",
     "text": [
      "Sector\n",
      "Communication Services    2.272091e+11\n",
      "Technology                1.958920e+11\n",
      "Consumer Cyclical         9.064271e+10\n",
      "Healthcare                8.805499e+10\n",
      "Financial Services        8.281085e+10\n",
      "Consumer Defensive        7.934027e+10\n",
      "Energy                    7.182722e+10\n",
      "Industrials               5.050966e+10\n",
      "Real Estate               3.432341e+10\n",
      "Basic Materials           3.365967e+10\n",
      "Utilities                 3.157316e+10\n",
      "Name: Marketcap, dtype: float64\n"
     ]
    }
   ],
   "source": [
    "grouped = df.groupby('Sector')\n",
    "sector_grouped = grouped['Marketcap']\n",
    "sector_mean = sector_grouped.mean().sort_values(ascending = False)\n",
    "print(sector_mean)"
   ]
  },
  {
   "cell_type": "code",
   "execution_count": 12,
   "id": "22b162c5-911e-4aeb-ad93-63be842bf126",
   "metadata": {},
   "outputs": [
    {
     "name": "stdout",
     "output_type": "stream",
     "text": [
      "Sector\n",
      "Communication Services    0.004796\n",
      "Technology                0.004135\n",
      "Consumer Cyclical         0.001913\n",
      "Healthcare                0.001859\n",
      "Financial Services        0.001748\n",
      "Consumer Defensive        0.001675\n",
      "Energy                    0.001516\n",
      "Industrials               0.001066\n",
      "Real Estate               0.000725\n",
      "Basic Materials           0.000710\n",
      "Utilities                 0.000666\n",
      "Name: Weight, dtype: float64\n"
     ]
    }
   ],
   "source": [
    "grouped = df.groupby('Sector')\n",
    "critic_grouped = grouped['Weight']\n",
    "critic_mean = critic_grouped.mean().sort_values(ascending = False)\n",
    "print(critic_mean)"
   ]
  },
  {
   "cell_type": "code",
   "execution_count": 13,
   "id": "0f2383bd-49ec-42f4-83be-b53203dd81e0",
   "metadata": {},
   "outputs": [],
   "source": [
    "tech_stocks = df[df['Sector'] == 'Technology']"
   ]
  },
  {
   "cell_type": "code",
   "execution_count": 14,
   "id": "e4124e29-506c-4a35-b987-7fd2e1cd8245",
   "metadata": {},
   "outputs": [],
   "source": [
    "# Sort by MarketCap in descending order and select the top 10\n",
    "top_tech_stocks = tech_stocks.sort_values(by='Marketcap', ascending=False).head(10)[['Longname', 'Weight']]\n",
    "\n"
   ]
  },
  {
   "cell_type": "code",
   "execution_count": 15,
   "id": "c27a09db-8804-4ecf-95e5-f94e6ed7c394",
   "metadata": {},
   "outputs": [
    {
     "name": "stdout",
     "output_type": "stream",
     "text": [
      "                        Longname    Weight\n",
      "0          Microsoft Corporation  0.063713\n",
      "1                     Apple Inc.  0.055649\n",
      "2             NVIDIA Corporation  0.046189\n",
      "9                  Broadcom Inc.  0.012802\n",
      "20  Advanced Micro Devices, Inc.  0.007073\n",
      "24            Oracle Corporation  0.006523\n",
      "25              Salesforce, Inc.  0.006251\n",
      "30                    Adobe Inc.  0.005270\n",
      "39           Cisco Systems, Inc.  0.004231\n",
      "41         QUALCOMM Incorporated  0.004018\n"
     ]
    }
   ],
   "source": [
    "print(top_tech_stocks)\n"
   ]
  },
  {
   "cell_type": "code",
   "execution_count": 16,
   "id": "f661b198-3c92-4c24-8dc7-e78d689b7298",
   "metadata": {},
   "outputs": [],
   "source": [
    "comm_stocks = df[df['Sector'] == 'Communication Services']"
   ]
  },
  {
   "cell_type": "code",
   "execution_count": 17,
   "id": "b2b316d7-3fa7-4b3a-a78f-f285735543d5",
   "metadata": {},
   "outputs": [],
   "source": [
    "# Sort by MarketCap in descending order and select the top 10\n",
    "top_comm_stocks = comm_stocks.sort_values(by='Marketcap', ascending=False).head(10)[['Longname', 'Weight']]"
   ]
  },
  {
   "cell_type": "code",
   "execution_count": 18,
   "id": "3ddf4401-e874-4190-80a0-efe9df18d79e",
   "metadata": {},
   "outputs": [
    {
     "name": "stdout",
     "output_type": "stream",
     "text": [
      "                         Longname    Weight\n",
      "4                   Alphabet Inc.  0.035644\n",
      "6            Meta Platforms, Inc.  0.027227\n",
      "28                  Netflix, Inc.  0.005525\n",
      "38        The Walt Disney Company  0.004271\n",
      "40              T-Mobile US, Inc.  0.004108\n",
      "49            Comcast Corporation  0.003570\n",
      "50    Verizon Communications Inc.  0.003506\n",
      "73                      AT&T Inc.  0.002597\n",
      "218  Charter Communications, Inc.  0.000870\n",
      "244          Electronic Arts Inc.  0.000763\n"
     ]
    }
   ],
   "source": [
    "print(top_comm_stocks)\n"
   ]
  },
  {
   "cell_type": "markdown",
   "id": "26b969cc-d031-4abb-ad9a-b71bd6a6e068",
   "metadata": {},
   "source": [
    "## Correlation Analysis"
   ]
  },
  {
   "cell_type": "code",
   "execution_count": 19,
   "id": "04292eba-9c6d-40b4-8943-4a44b28ec36e",
   "metadata": {},
   "outputs": [],
   "source": [
    "df_numerical = df.select_dtypes(include=[np.number])"
   ]
  },
  {
   "cell_type": "code",
   "execution_count": 20,
   "id": "10e06646-fc6f-4083-a443-7dac3948408e",
   "metadata": {},
   "outputs": [
    {
     "data": {
      "image/png": "[encoded data removed]",
      "text/plain": [
       "<Figure size 640x480 with 2 Axes>"
      ]
     },
     "metadata": {},
     "output_type": "display_data"
    }
   ],
   "source": [
    "corr = df_numerical.corr()\n",
    "\n",
    "sns.heatmap(corr, annot=True, cmap='coolwarm')\n",
    "plt.show()"
   ]
  },
  {
   "cell_type": "code",
   "execution_count": 21,
   "id": "cbce778f-8eb0-4a1d-a270-44058da468f3",
   "metadata": {},
   "outputs": [
    {
     "name": "stdout",
     "output_type": "stream",
     "text": [
      "Pearson's Correlation Coefficient: 0.8303060620856115, P-value: 1.5721531564487446e-113\n"
     ]
    }
   ],
   "source": [
    "pearson_coeff, p_value = pearsonr(df['Marketcap'], df['Ebitda'])\n",
    "print(f\"Pearson's Correlation Coefficient: {pearson_coeff}, P-value: {p_value}\")"
   ]
  },
  {
   "cell_type": "code",
   "execution_count": 22,
   "id": "4acca342-f75e-4d1d-9053-c51142277e9b",
   "metadata": {},
   "outputs": [
    {
     "name": "stdout",
     "output_type": "stream",
     "text": [
      "Pearson's Correlation Coefficient: 0.8303060620856124, P-value: 1.5721531564471266e-113\n"
     ]
    }
   ],
   "source": [
    "pearson_coeff, p_value = pearsonr(df['Weight'], df['Ebitda'])\n",
    "print(f\"Pearson's Correlation Coefficient: {pearson_coeff}, P-value: {p_value}\")"
   ]
  },
  {
   "cell_type": "code",
   "execution_count": 23,
   "id": "73cb201b-6d7c-4aef-9b45-2d7a58c84fd3",
   "metadata": {},
   "outputs": [
    {
     "name": "stdout",
     "output_type": "stream",
     "text": [
      "Pearson's Correlation Coefficient: 1.0, P-value: 0.0\n"
     ]
    }
   ],
   "source": [
    "pearson_coeff, p_value = pearsonr(df['Weight'], df['Marketcap'])\n",
    "print(f\"Pearson's Correlation Coefficient: {pearson_coeff}, P-value: {p_value}\")"
   ]
  },
  {
   "cell_type": "markdown",
   "id": "b71c535a-0e57-4bf2-81c9-ff769bfa341c",
   "metadata": {},
   "source": [
    "## Cross-Sectional Regression (Stock Prices)"
   ]
  },
  {
   "cell_type": "code",
   "execution_count": 24,
   "id": "52dbf230-656b-4c58-9580-55d7057be61d",
   "metadata": {},
   "outputs": [],
   "source": [
    "Y = df['Currentprice']\n",
    "X = df[['Ebitda', 'Fulltimeemployees', 'Revenuegrowth']]"
   ]
  },
  {
   "cell_type": "code",
   "execution_count": 25,
   "id": "b6439b01-e19e-4bb9-8b8a-68da1458341c",
   "metadata": {},
   "outputs": [
    {
     "name": "stdout",
     "output_type": "stream",
     "text": [
      "                            OLS Regression Results                            \n",
      "==============================================================================\n",
      "Dep. Variable:           Currentprice   R-squared:                       0.007\n",
      "Model:                            OLS   Adj. R-squared:                 -0.000\n",
      "Method:                 Least Squares   F-statistic:                    0.9584\n",
      "Date:                Sun, 21 Apr 2024   Prob (F-statistic):              0.412\n",
      "Time:                        22:05:37   Log-Likelihood:                -3340.5\n",
      "No. Observations:                 441   AIC:                             6689.\n",
      "Df Residuals:                     437   BIC:                             6705.\n",
      "Df Model:                           3                                         \n",
      "Covariance Type:            nonrobust                                         \n",
      "=====================================================================================\n",
      "                        coef    std err          t      P>|t|      [0.025      0.975]\n",
      "-------------------------------------------------------------------------------------\n",
      "const               215.1667     25.622      8.398      0.000     164.809     265.524\n",
      "Ebitda             4.839e-10   1.78e-09      0.272      0.786   -3.01e-09    3.98e-09\n",
      "Fulltimeemployees -6.096e-05      0.000     -0.343      0.732      -0.000       0.000\n",
      "Revenuegrowth       182.6611    111.495      1.638      0.102     -36.471     401.793\n",
      "==============================================================================\n",
      "Omnibus:                      776.666   Durbin-Watson:                   2.006\n",
      "Prob(Omnibus):                  0.000   Jarque-Bera (JB):           415911.800\n",
      "Skew:                          10.685   Prob(JB):                         0.00\n",
      "Kurtosis:                     151.923   Cond. No.                     7.63e+10\n",
      "==============================================================================\n",
      "\n",
      "Notes:\n",
      "[1] Standard Errors assume that the covariance matrix of the errors is correctly specified.\n",
      "[2] The condition number is large, 7.63e+10. This might indicate that there are\n",
      "strong multicollinearity or other numerical problems.\n"
     ]
    }
   ],
   "source": [
    "# Adding a constant (intercept) to the model\n",
    "X = sm.add_constant(X)\n",
    "\n",
    "# Fit the model\n",
    "model = sm.OLS(Y, X).fit()\n",
    "\n",
    "# Print out the statistics\n",
    "print(model.summary())"
   ]
  },
  {
   "cell_type": "code",
   "execution_count": 26,
   "id": "976804f7-f159-4fa6-ad51-c9a4ffb59614",
   "metadata": {},
   "outputs": [],
   "source": [
    "Y = df['Currentprice']\n",
    "X = df[['Revenuegrowth']]"
   ]
  },
  {
   "cell_type": "code",
   "execution_count": 27,
   "id": "5a36ec44-43d9-4454-a2de-8ca34a8d0e9b",
   "metadata": {},
   "outputs": [
    {
     "name": "stdout",
     "output_type": "stream",
     "text": [
      "                            OLS Regression Results                            \n",
      "==============================================================================\n",
      "Dep. Variable:           Currentprice   R-squared:                       0.006\n",
      "Model:                            OLS   Adj. R-squared:                  0.004\n",
      "Method:                 Least Squares   F-statistic:                     2.749\n",
      "Date:                Sun, 21 Apr 2024   Prob (F-statistic):             0.0980\n",
      "Time:                        22:05:37   Log-Likelihood:                -3340.6\n",
      "No. Observations:                 441   AIC:                             6685.\n",
      "Df Residuals:                     439   BIC:                             6693.\n",
      "Df Model:                           1                                         \n",
      "Covariance Type:            nonrobust                                         \n",
      "=================================================================================\n",
      "                    coef    std err          t      P>|t|      [0.025      0.975]\n",
      "---------------------------------------------------------------------------------\n",
      "const           214.9204     22.981      9.352      0.000     169.754     260.087\n",
      "Revenuegrowth   183.8430    110.888      1.658      0.098     -34.094     401.780\n",
      "==============================================================================\n",
      "Omnibus:                      776.546   Durbin-Watson:                   2.004\n",
      "Prob(Omnibus):                  0.000   Jarque-Bera (JB):           415697.569\n",
      "Skew:                          10.682   Prob(JB):                         0.00\n",
      "Kurtosis:                     151.885   Cond. No.                         4.94\n",
      "==============================================================================\n",
      "\n",
      "Notes:\n",
      "[1] Standard Errors assume that the covariance matrix of the errors is correctly specified.\n"
     ]
    }
   ],
   "source": [
    "# Adding a constant (intercept) to the model\n",
    "X = sm.add_constant(X)\n",
    "\n",
    "# Fit the model\n",
    "model = sm.OLS(Y, X).fit()\n",
    "\n",
    "# Print out the statistics\n",
    "print(model.summary())"
   ]
  },
  {
   "cell_type": "code",
   "execution_count": 28,
   "id": "f404ee9c-56a2-496a-81a1-93bd188c4e0c",
   "metadata": {},
   "outputs": [],
   "source": [
    "Y = df['Marketcap']\n",
    "X = df[['Ebitda', 'Fulltimeemployees', 'Revenuegrowth']]"
   ]
  },
  {
   "cell_type": "code",
   "execution_count": 29,
   "id": "3d3db68c-ebab-474f-bb33-85c3ce3f1967",
   "metadata": {},
   "outputs": [
    {
     "name": "stdout",
     "output_type": "stream",
     "text": [
      "                            OLS Regression Results                            \n",
      "==============================================================================\n",
      "Dep. Variable:              Marketcap   R-squared:                       0.729\n",
      "Model:                            OLS   Adj. R-squared:                  0.727\n",
      "Method:                 Least Squares   F-statistic:                     392.3\n",
      "Date:                Sun, 21 Apr 2024   Prob (F-statistic):          1.52e-123\n",
      "Time:                        22:05:37   Log-Likelihood:                -5703.1\n",
      "No. Observations:                 441   AIC:                         1.141e+04\n",
      "Df Residuals:                     437   BIC:                         1.143e+04\n",
      "Df Model:                           3                                         \n",
      "Covariance Type:            nonrobust                                         \n",
      "=====================================================================================\n",
      "                        coef    std err          t      P>|t|      [0.025      0.975]\n",
      "-------------------------------------------------------------------------------------\n",
      "const              1.532e+05   5435.990     28.182      0.000    1.43e+05    1.64e+05\n",
      "Ebitda             1.062e-05   3.77e-07     28.126      0.000    9.87e-06    1.14e-05\n",
      "Fulltimeemployees     0.1110      0.038      2.946      0.003       0.037       0.185\n",
      "Revenuegrowth      2.029e+05   2.37e+04      8.579      0.000    1.56e+05    2.49e+05\n",
      "==============================================================================\n",
      "Omnibus:                       94.544   Durbin-Watson:                   1.389\n",
      "Prob(Omnibus):                  0.000   Jarque-Bera (JB):             1883.872\n",
      "Skew:                           0.252   Prob(JB):                         0.00\n",
      "Kurtosis:                      13.113   Cond. No.                     7.63e+10\n",
      "==============================================================================\n",
      "\n",
      "Notes:\n",
      "[1] Standard Errors assume that the covariance matrix of the errors is correctly specified.\n",
      "[2] The condition number is large, 7.63e+10. This might indicate that there are\n",
      "strong multicollinearity or other numerical problems.\n"
     ]
    }
   ],
   "source": [
    "# Adding a constant (intercept) to the model\n",
    "X = sm.add_constant(X)\n",
    "\n",
    "# Square root transformation\n",
    "Y = np.sqrt(Y)\n",
    "\n",
    "# Fit the model\n",
    "model = sm.OLS(Y, X).fit()\n",
    "\n",
    "# Print out the statistics\n",
    "print(model.summary())"
   ]
  },
  {
   "cell_type": "code",
   "execution_count": 30,
   "id": "d11910f5-7d19-4d32-b408-e87f38dba289",
   "metadata": {},
   "outputs": [
    {
     "data": {
      "image/png": "[encoded data removed]",
      "text/plain": [
       "<Figure size 800x600 with 1 Axes>"
      ]
     },
     "metadata": {},
     "output_type": "display_data"
    }
   ],
   "source": [
    "fig, ax = plt.subplots(figsize=(8, 6))\n",
    "ax.scatter(x=model.fittedvalues, y=model.resid)\n",
    "ax.axhline(y=0, color='red', linestyle='--')\n",
    "ax.set_xlabel('Fitted values')\n",
    "ax.set_ylabel('Residuals')\n",
    "ax.set_title('Residual Plot')\n",
    "plt.show()"
   ]
  },
  {
   "cell_type": "code",
   "execution_count": 31,
   "id": "68b099e0-0a34-43ba-8e44-711ff7b308a5",
   "metadata": {},
   "outputs": [
    {
     "data": {
      "image/png": "[encoded data removed]",
      "text/plain": [
       "<Figure size 640x480 with 1 Axes>"
      ]
     },
     "metadata": {},
     "output_type": "display_data"
    }
   ],
   "source": [
    "fig = sm.qqplot(model.resid, line='s')\n",
    "plt.title('Q-Q Plot of Residuals')\n",
    "plt.show()"
   ]
  },
  {
   "cell_type": "code",
   "execution_count": 32,
   "id": "289b24e4-c4be-4c4d-84ad-3c22f5b7a624",
   "metadata": {},
   "outputs": [
    {
     "name": "stdout",
     "output_type": "stream",
     "text": [
      "const: p-value = 2.41e-100\n",
      "Ebitda: p-value = 4.23e-100\n",
      "Fulltimeemployees: p-value = 3.39e-03\n",
      "Revenuegrowth: p-value = 1.69e-16\n"
     ]
    }
   ],
   "source": [
    "# Assume 'model' is the result of sm.OLS(Y, X).fit()\n",
    "p_values = model.pvalues\n",
    "\n",
    "# Print each p-value with high precision\n",
    "for var, p in p_values.items():\n",
    "     print(f\"{var}: p-value = {p:.2e}\")  # Adjust formatting as needed"
   ]
  },
  {
   "cell_type": "code",
   "execution_count": 33,
   "id": "83153241-4b88-4371-9c9e-6faf230d5635",
   "metadata": {},
   "outputs": [],
   "source": [
    "Y = df['Marketcap']\n",
    "X = df[['Ebitda', 'Revenuegrowth']]"
   ]
  },
  {
   "cell_type": "code",
   "execution_count": 34,
   "id": "a46493fc-6646-418c-984c-4e928670767f",
   "metadata": {},
   "outputs": [
    {
     "name": "stdout",
     "output_type": "stream",
     "text": [
      "                            OLS Regression Results                            \n",
      "==============================================================================\n",
      "Dep. Variable:              Marketcap   R-squared:                       0.744\n",
      "Model:                            OLS   Adj. R-squared:                  0.742\n",
      "Method:                 Least Squares   F-statistic:                     634.9\n",
      "Date:                Sun, 21 Apr 2024   Prob (F-statistic):          3.82e-130\n",
      "Time:                        22:05:38   Log-Likelihood:                -11924.\n",
      "No. Observations:                 441   AIC:                         2.385e+04\n",
      "Df Residuals:                     438   BIC:                         2.387e+04\n",
      "Df Model:                           2                                         \n",
      "Covariance Type:            nonrobust                                         \n",
      "=================================================================================\n",
      "                    coef    std err          t      P>|t|      [0.025      0.975]\n",
      "---------------------------------------------------------------------------------\n",
      "const         -1.899e+10   7.12e+09     -2.667      0.008    -3.3e+10      -5e+09\n",
      "Ebitda           15.3075      0.458     33.416      0.000      14.407      16.208\n",
      "Revenuegrowth  3.035e+11   3.16e+10      9.613      0.000    2.41e+11    3.66e+11\n",
      "==============================================================================\n",
      "Omnibus:                      158.887   Durbin-Watson:                   1.509\n",
      "Prob(Omnibus):                  0.000   Jarque-Bera (JB):            24978.578\n",
      "Skew:                           0.186   Prob(JB):                         0.00\n",
      "Kurtosis:                      39.868   Cond. No.                     7.63e+10\n",
      "==============================================================================\n",
      "\n",
      "Notes:\n",
      "[1] Standard Errors assume that the covariance matrix of the errors is correctly specified.\n",
      "[2] The condition number is large, 7.63e+10. This might indicate that there are\n",
      "strong multicollinearity or other numerical problems.\n"
     ]
    }
   ],
   "source": [
    "# Adding a constant (intercept) to the model\n",
    "X = sm.add_constant(X)\n",
    "\n",
    "# Fit the model\n",
    "model = sm.OLS(Y, X).fit()\n",
    "\n",
    "# Print out the statistics\n",
    "print(model.summary())"
   ]
  },
  {
   "cell_type": "code",
   "execution_count": null,
   "id": "bbe3d1b5-b0e9-46d4-8a24-5b17f026f1df",
   "metadata": {},
   "outputs": [],
   "source": []
  }
 ],
 "metadata": {
  "kernelspec": {
   "display_name": "Python 3 (ipykernel)",
   "language": "python",
   "name": "python3"
  },
  "language_info": {
   "codemirror_mode": {
    "name": "ipython",
    "version": 3
   },
   "file_extension": ".py",
   "mimetype": "text/x-python",
   "name": "python",
   "nbconvert_exporter": "python",
   "pygments_lexer": "ipython3",
   "version": "3.11.7"
  }
 },
 "nbformat": 4,
 "nbformat_minor": 5
}
